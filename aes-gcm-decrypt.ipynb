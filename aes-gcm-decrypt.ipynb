{
 "cells": [
  {
   "cell_type": "code",
   "execution_count": 1,
   "metadata": {},
   "outputs": [],
   "source": [
    "import json\n",
    "from base64 import b64decode\n",
    "from Crypto.Cipher import AES"
   ]
  },
  {
   "cell_type": "markdown",
   "metadata": {},
   "source": [
    "Copy & paste payload from the other notebook (that performs the authenticated encryption)."
   ]
  },
  {
   "cell_type": "code",
   "execution_count": 2,
   "metadata": {},
   "outputs": [],
   "source": [
    "payload = json.loads(\n",
    "    '{\"nonce\": \"TCoGcfjAlEx9XStjshS9EQ==\", \"header\": \"aGVhZGVy\", \"ciphertext\": \"sNiLDlCL\", \"tag\": \"kj6bfNAZR3AS4wgncoFI+w==\"}'\n",
    "    )"
   ]
  },
  {
   "cell_type": "markdown",
   "metadata": {},
   "source": [
    "Base64 decode the dictionary values."
   ]
  },
  {
   "cell_type": "code",
   "execution_count": 3,
   "metadata": {},
   "outputs": [
    {
     "data": {
      "text/plain": [
       "{'nonce': b'L*\\x06q\\xf8\\xc0\\x94L}]+c\\xb2\\x14\\xbd\\x11',\n",
       " 'header': b'header',\n",
       " 'ciphertext': b'\\xb0\\xd8\\x8b\\x0eP\\x8b',\n",
       " 'tag': b\"\\x92>\\x9b|\\xd0\\x19Gp\\x12\\xe3\\x08'r\\x81H\\xfb\"}"
      ]
     },
     "execution_count": 3,
     "metadata": {},
     "output_type": "execute_result"
    }
   ],
   "source": [
    "payload = {k:b64decode(payload[k]) for k in payload.keys()}\n",
    "payload"
   ]
  },
  {
   "cell_type": "markdown",
   "metadata": {},
   "source": [
    "Assume we have securely shared the key (in this case, copy & paste key from other notebook)."
   ]
  },
  {
   "cell_type": "code",
   "execution_count": 4,
   "metadata": {},
   "outputs": [],
   "source": [
    "key = b\"\\x16\\xa3'\\x10\\xeb\\x07\\xa8\\x08\\xf4fa\\x0f\\x93\\xcb/?\""
   ]
  },
  {
   "cell_type": "markdown",
   "metadata": {},
   "source": [
    "See note at https://www.pycryptodome.org/src/cipher/modern#gcm-mode regarding the library default 128-bit random nonce."
   ]
  },
  {
   "cell_type": "code",
   "execution_count": 5,
   "metadata": {},
   "outputs": [
    {
     "data": {
      "text/plain": [
       "16"
      ]
     },
     "execution_count": 5,
     "metadata": {},
     "output_type": "execute_result"
    }
   ],
   "source": [
    "len(payload['nonce'])"
   ]
  },
  {
   "cell_type": "code",
   "execution_count": 7,
   "metadata": {},
   "outputs": [
    {
     "name": "stdout",
     "output_type": "stream",
     "text": [
      "The message was 'secret'.\n"
     ]
    }
   ],
   "source": [
    "try:\n",
    "    cipher = AES.new(key, AES.MODE_GCM, nonce=payload['nonce'])\n",
    "    cipher.update(payload['header'])\n",
    "    plaintext = cipher.decrypt_and_verify(payload['ciphertext'], payload['tag'])\n",
    "    print(f\"The message was '{plaintext.decode('utf-8')}'.\")\n",
    "except (ValueError, KeyError):\n",
    "    print(\"Incorrect decryption\")"
   ]
  },
  {
   "cell_type": "code",
   "execution_count": 8,
   "metadata": {},
   "outputs": [
    {
     "name": "stdout",
     "output_type": "stream",
     "text": [
      "Incorrect decryption\n"
     ]
    }
   ],
   "source": [
    "try:\n",
    "    cipher = AES.new(key, AES.MODE_GCM, nonce=payload['nonce'])\n",
    "    cipher.update(payload['header'])\n",
    "    plaintext = cipher.decrypt_and_verify(payload['ciphertext'], b'foobar')\n",
    "    print(f\"The message was '{plaintext.decode('utf-8')}'.\")\n",
    "except (ValueError, KeyError):\n",
    "    print(\"Incorrect decryption\")"
   ]
  },
  {
   "cell_type": "code",
   "execution_count": null,
   "metadata": {},
   "outputs": [],
   "source": []
  }
 ],
 "metadata": {
  "kernelspec": {
   "display_name": "Python 3",
   "language": "python",
   "name": "python3"
  },
  "language_info": {
   "codemirror_mode": {
    "name": "ipython",
    "version": 3
   },
   "file_extension": ".py",
   "mimetype": "text/x-python",
   "name": "python",
   "nbconvert_exporter": "python",
   "pygments_lexer": "ipython3",
   "version": "3.10.8"
  },
  "orig_nbformat": 4
 },
 "nbformat": 4,
 "nbformat_minor": 2
}
