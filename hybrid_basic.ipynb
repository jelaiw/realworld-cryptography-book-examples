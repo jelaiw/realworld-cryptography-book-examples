{
 "cells": [
  {
   "cell_type": "code",
   "execution_count": 1,
   "metadata": {},
   "outputs": [],
   "source": [
    "import tink\n",
    "from tink import cleartext_keyset_handle\n",
    "from tink import hybrid"
   ]
  },
  {
   "cell_type": "code",
   "execution_count": 2,
   "metadata": {},
   "outputs": [],
   "source": [
    "# Register the hybrid encryption key managers. This is needed to create\n",
    "# HybridEncrypt and HybridDecrypt primitives later.\n",
    "hybrid.register()"
   ]
  },
  {
   "cell_type": "code",
   "execution_count": 3,
   "metadata": {},
   "outputs": [],
   "source": [
    "# A private keyset created with\n",
    "# tinkey create-keyset \\\n",
    "#   --key-template=DHKEM_X25519_HKDF_SHA256_HKDF_SHA256_AES_256_GCM \\\n",
    "#   --out private_keyset.cfg\n",
    "# Note that this keyset has the secret key information in cleartext.\n",
    "private_keyset = r\"\"\"{\n",
    "    \"key\": [{\n",
    "        \"keyData\": {\n",
    "            \"keyMaterialType\":\n",
    "                \"ASYMMETRIC_PRIVATE\",\n",
    "            \"typeUrl\":\n",
    "                \"type.googleapis.com/google.crypto.tink.HpkePrivateKey\",\n",
    "            \"value\":\n",
    "                \"EioSBggBEAEYAhogVWQpmQoz74jcAp5WOD36KiBQ71MVCpn2iWfOzWLtKV4aINfn8qlMbyijNJcCzrafjsgJ493ZZGN256KTfKw0WN+p\"\n",
    "        },\n",
    "        \"keyId\": 958452012,\n",
    "        \"outputPrefixType\": \"TINK\",\n",
    "        \"status\": \"ENABLED\"\n",
    "    }],\n",
    "    \"primaryKeyId\": 958452012\n",
    "}\"\"\""
   ]
  },
  {
   "cell_type": "code",
   "execution_count": 4,
   "metadata": {},
   "outputs": [],
   "source": [
    "# The corresponding public keyset created with\n",
    "# \"tinkey create-public-keyset --in private_keyset.cfg\"\n",
    "public_keyset = r\"\"\"{\n",
    "    \"key\": [{\n",
    "        \"keyData\": {\n",
    "            \"keyMaterialType\":\n",
    "                \"ASYMMETRIC_PUBLIC\",\n",
    "            \"typeUrl\":\n",
    "                \"type.googleapis.com/google.crypto.tink.HpkePublicKey\",\n",
    "            \"value\":\n",
    "                \"EgYIARABGAIaIFVkKZkKM++I3AKeVjg9+iogUO9TFQqZ9olnzs1i7Sle\"          },\n",
    "        \"keyId\": 958452012,\n",
    "        \"outputPrefixType\": \"TINK\",\n",
    "        \"status\": \"ENABLED\"\n",
    "    }],\n",
    "    \"primaryKeyId\": 958452012\n",
    "}\"\"\""
   ]
  },
  {
   "cell_type": "code",
   "execution_count": 5,
   "metadata": {},
   "outputs": [],
   "source": [
    "# Create a keyset handle from the keyset containing the public key. Because\n",
    "# this keyset does not contain any secrets, we can use\n",
    "# `tink.read_no_secret_keyset_handle`.\n",
    "public_keyset_handle = tink.read_no_secret_keyset_handle(\n",
    "    tink.JsonKeysetReader(public_keyset)\n",
    ")"
   ]
  },
  {
   "cell_type": "code",
   "execution_count": 6,
   "metadata": {},
   "outputs": [],
   "source": [
    "# Retrieve the HybridEncrypt primitive from the keyset handle.\n",
    "enc_primitive = public_keyset_handle.primitive(hybrid.HybridEncrypt)"
   ]
  },
  {
   "cell_type": "code",
   "execution_count": 7,
   "metadata": {},
   "outputs": [
    {
     "data": {
      "text/plain": [
       "'013920d12ce3ff78cf4c941cff35ccf3bda5723413b8cd50548472e287507e9d3f1852ff6f78ea0e52c58850d8f73029d6f3ab06ca4e417cb90ba949'"
      ]
     },
     "execution_count": 7,
     "metadata": {},
     "output_type": "execute_result"
    }
   ],
   "source": [
    "# Use enc_primitive to encrypt a message. In this case the primary key of the\n",
    "# keyset will be used (which is also the only key in this example).\n",
    "ciphertext = enc_primitive.encrypt(b'message', b'context_info')\n",
    "ciphertext.hex()"
   ]
  },
  {
   "cell_type": "code",
   "execution_count": 8,
   "metadata": {},
   "outputs": [],
   "source": [
    "# Create a keyset handle from the private keyset. The keyset handle provides\n",
    "# abstract access to the underlying keyset to limit the exposure of accessing\n",
    "# the raw key material. WARNING: In practice, it is unlikely you will want to\n",
    "# use a cleartext_keyset_handle, as it implies that your key material is\n",
    "# passed in cleartext which is a security risk.\n",
    "private_keyset_handle = cleartext_keyset_handle.read(\n",
    "    tink.JsonKeysetReader(private_keyset)\n",
    ")"
   ]
  },
  {
   "cell_type": "code",
   "execution_count": 9,
   "metadata": {},
   "outputs": [],
   "source": [
    "# Retrieve the HybridDecrypt primitive from the private keyset handle.\n",
    "dec_primitive = private_keyset_handle.primitive(hybrid.HybridDecrypt)"
   ]
  },
  {
   "cell_type": "code",
   "execution_count": 10,
   "metadata": {},
   "outputs": [
    {
     "data": {
      "text/plain": [
       "b'message'"
      ]
     },
     "execution_count": 10,
     "metadata": {},
     "output_type": "execute_result"
    }
   ],
   "source": [
    "# Use dec_primitive to decrypt the message. Decrypt finds the correct key in\n",
    "# the keyset and decrypts the ciphertext. If no key is found or decryption\n",
    "# fails, it raises an error.\n",
    "decrypted = dec_primitive.decrypt(ciphertext, b'context_info')\n",
    "decrypted"
   ]
  },
  {
   "cell_type": "code",
   "execution_count": null,
   "metadata": {},
   "outputs": [],
   "source": []
  }
 ],
 "metadata": {
  "kernelspec": {
   "display_name": "Python 3",
   "language": "python",
   "name": "python3"
  },
  "language_info": {
   "codemirror_mode": {
    "name": "ipython",
    "version": 3
   },
   "file_extension": ".py",
   "mimetype": "text/x-python",
   "name": "python",
   "nbconvert_exporter": "python",
   "pygments_lexer": "ipython3",
   "version": "3.10.8"
  },
  "orig_nbformat": 4
 },
 "nbformat": 4,
 "nbformat_minor": 2
}
