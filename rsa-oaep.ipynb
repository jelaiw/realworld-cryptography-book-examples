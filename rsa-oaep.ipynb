{
 "cells": [
  {
   "cell_type": "code",
   "execution_count": 1,
   "metadata": {},
   "outputs": [],
   "source": [
    "from Crypto.Cipher import PKCS1_OAEP\n",
    "from Crypto.PublicKey import RSA"
   ]
  },
  {
   "cell_type": "code",
   "execution_count": 2,
   "metadata": {},
   "outputs": [],
   "source": [
    "keypair = RSA.generate(2048)"
   ]
  },
  {
   "cell_type": "code",
   "execution_count": 3,
   "metadata": {},
   "outputs": [],
   "source": [
    "public_key = keypair.public_key()"
   ]
  },
  {
   "cell_type": "code",
   "execution_count": 4,
   "metadata": {},
   "outputs": [],
   "source": [
    "message = b'You can attack now!'"
   ]
  },
  {
   "cell_type": "code",
   "execution_count": 5,
   "metadata": {},
   "outputs": [],
   "source": [
    "cipher = PKCS1_OAEP.new(public_key)"
   ]
  },
  {
   "cell_type": "markdown",
   "metadata": {},
   "source": [
    "See https://stackoverflow.com/a/36149089 for Python 3 bytes to hex recommendations."
   ]
  },
  {
   "cell_type": "code",
   "execution_count": 9,
   "metadata": {},
   "outputs": [
    {
     "data": {
      "text/plain": [
       "'05d2ee2130364d3ebe9d5b2ae86e095ac1b590912794a90c698bda167562a4c5e8879b4e629e6c810d92abacba95419ef2191f729716ae0e42d2df5612ff629bfffb8f360140e8d6304b0fec52571c3a3f36f3beebb766df37877a4564a8d13714459b33a86e2a64b903edbdba59b367961c805be45d55b8e94d7578c4cd72bd1a39f4867ede559274046160a00121473199feb32b1c249cef0ff7b50b68e2314fc01de47f6e99d84d67edb32fc106ac698e8a00aaf12b679e4455a2d42d26071a5764186d8c9f5449f8339a13d93a72c215eb2c62ba5dac7c21cf7b54033683c6c2f4044a3f772a75a35d97e99c3ed4a0c5e5f0a8e520a4beb9f94260b3403e'"
      ]
     },
     "execution_count": 9,
     "metadata": {},
     "output_type": "execute_result"
    }
   ],
   "source": [
    "c1 = cipher.encrypt(message)\n",
    "c1.hex()"
   ]
  },
  {
   "cell_type": "code",
   "execution_count": 10,
   "metadata": {},
   "outputs": [
    {
     "data": {
      "text/plain": [
       "'182b753dc86425551d8dd51d2fd25bbd8cae01736cfa7ec8039bf822243b6050d561e768f1b23895b0b21522e0f456a9fd001d5b43654e830c05008a8b47ed20bda599e6c982bd6261a03b9724f0f3642d36fcd976f452972c75ac5758256e597f7de971b08c366d93c3b5893e92891ef6e7c9a39d21953e5b70e6a0d9453465b4222d9b53a34cbe6dcb81e211afc1e69da004a16ca2e64acfd10e5609ebf142f1abaf126384c0977fd6059156b121c4861c770232fb74eaddf72c62f46a922b1d1dc6913fcbb276a521c0133e70e066edc20bc07aef18203b762459e5010d356ce58a7ba04192f0414a1617ce802d17f278e4723fb4ee1abca6672cacdf4999'"
      ]
     },
     "execution_count": 10,
     "metadata": {},
     "output_type": "execute_result"
    }
   ],
   "source": [
    "c2 = cipher.encrypt(message)\n",
    "c2.hex()"
   ]
  },
  {
   "cell_type": "code",
   "execution_count": 8,
   "metadata": {},
   "outputs": [],
   "source": [
    "assert c1 != c2"
   ]
  },
  {
   "cell_type": "code",
   "execution_count": 14,
   "metadata": {},
   "outputs": [
    {
     "name": "stdout",
     "output_type": "stream",
     "text": [
      "19 256 256\n"
     ]
    }
   ],
   "source": [
    "print(len(message), len(c1), len(c2))"
   ]
  },
  {
   "cell_type": "code",
   "execution_count": null,
   "metadata": {},
   "outputs": [],
   "source": []
  }
 ],
 "metadata": {
  "kernelspec": {
   "display_name": "Python 3",
   "language": "python",
   "name": "python3"
  },
  "language_info": {
   "codemirror_mode": {
    "name": "ipython",
    "version": 3
   },
   "file_extension": ".py",
   "mimetype": "text/x-python",
   "name": "python",
   "nbconvert_exporter": "python",
   "pygments_lexer": "ipython3",
   "version": "3.10.8"
  },
  "orig_nbformat": 4
 },
 "nbformat": 4,
 "nbformat_minor": 2
}
