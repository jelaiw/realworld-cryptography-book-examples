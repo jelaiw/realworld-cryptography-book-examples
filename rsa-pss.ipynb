{
 "cells": [
  {
   "cell_type": "code",
   "execution_count": 1,
   "metadata": {},
   "outputs": [],
   "source": [
    "from Crypto.PublicKey import RSA\n",
    "from Crypto.Hash import SHA256\n",
    "from Crypto.Signature import pss"
   ]
  },
  {
   "cell_type": "markdown",
   "metadata": {},
   "source": [
    "## Sign a message"
   ]
  },
  {
   "cell_type": "code",
   "execution_count": 2,
   "metadata": {},
   "outputs": [],
   "source": [
    "signing_key = RSA.generate(2048)"
   ]
  },
  {
   "cell_type": "code",
   "execution_count": 3,
   "metadata": {},
   "outputs": [],
   "source": [
    "message = b'foobar.com has public key 0x020899...'"
   ]
  },
  {
   "cell_type": "code",
   "execution_count": 4,
   "metadata": {},
   "outputs": [
    {
     "data": {
      "text/plain": [
       "32"
      ]
     },
     "execution_count": 4,
     "metadata": {},
     "output_type": "execute_result"
    }
   ],
   "source": [
    "h = SHA256.new(message)\n",
    "len(h.digest())"
   ]
  },
  {
   "cell_type": "markdown",
   "metadata": {},
   "source": [
    "Repeat signing a few times and observe that signature changes (PSS is probabilistic)."
   ]
  },
  {
   "cell_type": "code",
   "execution_count": 6,
   "metadata": {},
   "outputs": [
    {
     "data": {
      "text/plain": [
       "'1b19178d12909c1ba9fc6374f50a56b746ae7b885f2d6ded0d9d404826c7199f3e7fe84f17600375521c5b60eaa342d849acfe14ffcde9dcf7f753a0e51d0314edd0c990daa2ebe2071527cb33fe9d9883a83767a077016a400277860cb4d07455bd0bce866bcd992620d118c8295e2d3eb17e41bd36a7e0175c7203184d79e1479709682f8e28405d55f7a7127a3944dc7bfa0d6018d38d694b9e68ef50343db2fc33682486767f7a5eb618324dd506b6ce02c0cedccb8d58922a6fd71d7de52bc4bd4b090984646a2cff779a0b0705cd5f6384040932ed022d36d2fd6c2a7491dd5b39c652fe21be7f606c91f225d496370e88cc3b32abda65bc944eda2551'"
      ]
     },
     "execution_count": 6,
     "metadata": {},
     "output_type": "execute_result"
    }
   ],
   "source": [
    "signature = pss.new(signing_key).sign(h)\n",
    "signature.hex()"
   ]
  },
  {
   "cell_type": "markdown",
   "metadata": {},
   "source": [
    "## Verify a signature"
   ]
  },
  {
   "cell_type": "code",
   "execution_count": 7,
   "metadata": {},
   "outputs": [],
   "source": [
    "public_key = signing_key.public_key()"
   ]
  },
  {
   "cell_type": "code",
   "execution_count": 8,
   "metadata": {},
   "outputs": [],
   "source": [
    "verifier = pss.new(public_key)"
   ]
  },
  {
   "cell_type": "code",
   "execution_count": 9,
   "metadata": {},
   "outputs": [
    {
     "name": "stdout",
     "output_type": "stream",
     "text": [
      "The signature is not authentic.\n"
     ]
    }
   ],
   "source": [
    "try:\n",
    "#    verifier.verify(h, signature)\n",
    "    verifier.verify(SHA256.new(b'foobar'), signature)\n",
    "    print(\"The signature is authentic.\")\n",
    "except ValueError:\n",
    "    print(\"The signature is not authentic.\")"
   ]
  },
  {
   "cell_type": "code",
   "execution_count": null,
   "metadata": {},
   "outputs": [],
   "source": []
  }
 ],
 "metadata": {
  "kernelspec": {
   "display_name": "Python 3",
   "language": "python",
   "name": "python3"
  },
  "language_info": {
   "codemirror_mode": {
    "name": "ipython",
    "version": 3
   },
   "file_extension": ".py",
   "mimetype": "text/x-python",
   "name": "python",
   "nbconvert_exporter": "python",
   "pygments_lexer": "ipython3",
   "version": "3.10.8"
  }
 },
 "nbformat": 4,
 "nbformat_minor": 2
}
