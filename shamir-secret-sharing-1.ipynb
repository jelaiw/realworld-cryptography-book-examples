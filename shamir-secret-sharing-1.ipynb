{
 "cells": [
  {
   "cell_type": "code",
   "execution_count": 1,
   "metadata": {},
   "outputs": [],
   "source": [
    "from Crypto.Cipher import AES\n",
    "from Crypto.Random import get_random_bytes\n",
    "from Crypto.Protocol.SecretSharing import Shamir"
   ]
  },
  {
   "cell_type": "code",
   "execution_count": 2,
   "metadata": {},
   "outputs": [
    {
     "data": {
      "text/plain": [
       "'c8b884bb6dfde6eb67f739699bdf671f'"
      ]
     },
     "execution_count": 2,
     "metadata": {},
     "output_type": "execute_result"
    }
   ],
   "source": [
    "key = get_random_bytes(16)\n",
    "key.hex()"
   ]
  },
  {
   "cell_type": "code",
   "execution_count": 3,
   "metadata": {},
   "outputs": [
    {
     "name": "stdout",
     "output_type": "stream",
     "text": [
      "Index 1: a530cf2528ded474b8553631a5146768\n",
      "Index 2: 13a81387e7bb83d4d8b327d9e64967f1\n",
      "Index 3: 7e205819a298b14b07112881d8826786\n",
      "Index 4: 7e99aac279712c94197f040960f36644\n",
      "Index 5: 1311e15c3c521e0bc6dd0b515e386633\n"
     ]
    }
   ],
   "source": [
    "shares = Shamir.split(2, 5, key)\n",
    "for i, share in shares:\n",
    "    print(f\"Index {i}: {share.hex()}\")"
   ]
  },
  {
   "cell_type": "code",
   "execution_count": 4,
   "metadata": {},
   "outputs": [],
   "source": [
    "message = b\"attack at dawn\""
   ]
  },
  {
   "cell_type": "code",
   "execution_count": 5,
   "metadata": {},
   "outputs": [
    {
     "name": "stdout",
     "output_type": "stream",
     "text": [
      "2efd6ddd7e8d5960c6d9247173bb 22b43e3d620791600b1b3752345a470b f839973f234cbcb70d9c98dfad41d473\n"
     ]
    }
   ],
   "source": [
    "cipher = AES.new(key, AES.MODE_EAX)\n",
    "ciphertext, tag = cipher.encrypt(message), cipher.digest()\n",
    "print(ciphertext.hex(), cipher.nonce.hex(), tag.hex())"
   ]
  },
  {
   "cell_type": "code",
   "execution_count": null,
   "metadata": {},
   "outputs": [],
   "source": []
  }
 ],
 "metadata": {
  "kernelspec": {
   "display_name": "Python 3",
   "language": "python",
   "name": "python3"
  },
  "language_info": {
   "codemirror_mode": {
    "name": "ipython",
    "version": 3
   },
   "file_extension": ".py",
   "mimetype": "text/x-python",
   "name": "python",
   "nbconvert_exporter": "python",
   "pygments_lexer": "ipython3",
   "version": "3.10.8"
  }
 },
 "nbformat": 4,
 "nbformat_minor": 2
}
