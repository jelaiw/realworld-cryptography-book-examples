{
 "cells": [
  {
   "cell_type": "code",
   "execution_count": 1,
   "metadata": {},
   "outputs": [],
   "source": [
    "from Crypto.Hash import SHA256"
   ]
  },
  {
   "cell_type": "code",
   "execution_count": 3,
   "metadata": {},
   "outputs": [
    {
     "data": {
      "text/plain": [
       "'8f40612a546d8734014da850726835325b5283253fd39f11366ea5e098b6ae98'"
      ]
     },
     "execution_count": 3,
     "metadata": {},
     "output_type": "execute_result"
    }
   ],
   "source": [
    "sha2 = SHA256.new()\n",
    "sha2.update(b\"Alice\")\n",
    "sha2.update(b\"Bob\")\n",
    "sha2.update(b\"100\")\n",
    "sha2.update(b\"15\")\n",
    "sha2.hexdigest()"
   ]
  },
  {
   "cell_type": "code",
   "execution_count": 4,
   "metadata": {},
   "outputs": [
    {
     "data": {
      "text/plain": [
       "'8f40612a546d8734014da850726835325b5283253fd39f11366ea5e098b6ae98'"
      ]
     },
     "execution_count": 4,
     "metadata": {},
     "output_type": "execute_result"
    }
   ],
   "source": [
    "sha2 = SHA256.new()\n",
    "sha2.update(b\"Alice\")\n",
    "sha2.update(b\"Bob\")\n",
    "sha2.update(b\"1001\")\n",
    "sha2.update(b\"5\")\n",
    "sha2.hexdigest()"
   ]
  },
  {
   "cell_type": "code",
   "execution_count": 5,
   "metadata": {},
   "outputs": [],
   "source": [
    "from Crypto.Hash import TupleHash128"
   ]
  },
  {
   "cell_type": "code",
   "execution_count": 6,
   "metadata": {},
   "outputs": [
    {
     "data": {
      "text/plain": [
       "'69a571b56d887c6c82b34d9e03b9f180'"
      ]
     },
     "execution_count": 6,
     "metadata": {},
     "output_type": "execute_result"
    }
   ],
   "source": [
    "hash = TupleHash128.new(digest_bytes=16)\n",
    "hash.update(b\"Alice\")\n",
    "hash.update(b\"Bob\")\n",
    "hash.update(b\"100\")\n",
    "hash.update(b\"15\")\n",
    "hash.hexdigest()"
   ]
  },
  {
   "cell_type": "code",
   "execution_count": 7,
   "metadata": {},
   "outputs": [
    {
     "data": {
      "text/plain": [
       "'6a7d86e6cd40d1549569d4f08a64e709'"
      ]
     },
     "execution_count": 7,
     "metadata": {},
     "output_type": "execute_result"
    }
   ],
   "source": [
    "hash = TupleHash128.new(digest_bytes=16)\n",
    "hash.update(b\"Alice\")\n",
    "hash.update(b\"Bob\")\n",
    "hash.update(b\"1001\")\n",
    "hash.update(b\"5\")\n",
    "hash.hexdigest()"
   ]
  },
  {
   "cell_type": "code",
   "execution_count": null,
   "metadata": {},
   "outputs": [],
   "source": []
  }
 ],
 "metadata": {
  "kernelspec": {
   "display_name": "Python 3",
   "language": "python",
   "name": "python3"
  },
  "language_info": {
   "codemirror_mode": {
    "name": "ipython",
    "version": 3
   },
   "file_extension": ".py",
   "mimetype": "text/x-python",
   "name": "python",
   "nbconvert_exporter": "python",
   "pygments_lexer": "ipython3",
   "version": "3.10.8"
  },
  "orig_nbformat": 4
 },
 "nbformat": 4,
 "nbformat_minor": 2
}
