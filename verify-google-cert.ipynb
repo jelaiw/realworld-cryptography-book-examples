{
 "cells": [
  {
   "cell_type": "markdown",
   "metadata": {},
   "source": [
    "Public key for GTS (intermediate CA)."
   ]
  },
  {
   "cell_type": "code",
   "execution_count": 5,
   "metadata": {},
   "outputs": [],
   "source": [
    "modulus_hex = \"\"\"00:f5:88:df:e7:62:8c:1e:37:f8:37:42:90:7f:6c:\n",
    "                    87:d0:fb:65:82:25:fd:e8:cb:6b:a4:ff:6d:e9:5a:\n",
    "                    23:e2:99:f6:1c:e9:92:03:99:13:7c:09:0a:8a:fa:\n",
    "                    42:d6:5e:56:24:aa:7a:33:84:1f:d1:e9:69:bb:b9:\n",
    "                    74:ec:57:4c:66:68:93:77:37:55:53:fe:39:10:4d:\n",
    "                    b7:34:bb:5f:25:77:37:3b:17:94:ea:3c:e5:9d:d5:\n",
    "                    bc:c3:b4:43:eb:2e:a7:47:ef:b0:44:11:63:d8:b4:\n",
    "                    41:85:dd:41:30:48:93:1b:bf:b7:f6:e0:45:02:21:\n",
    "                    e0:96:42:17:cf:d9:2b:65:56:34:07:26:04:0d:a8:\n",
    "                    fd:7d:ca:2e:ef:ea:48:7c:37:4d:3f:00:9f:83:df:\n",
    "                    ef:75:84:2e:79:57:5c:fc:57:6e:1a:96:ff:fc:8c:\n",
    "                    9a:a6:99:be:25:d9:7f:96:2c:06:f7:11:2a:02:80:\n",
    "                    80:eb:63:18:3c:50:49:87:e5:8a:ca:5f:19:2b:59:\n",
    "                    96:81:00:a0:fb:51:db:ca:77:0b:0b:c9:96:4f:ef:\n",
    "                    70:49:c7:5c:6d:20:fd:99:b4:b4:e2:ca:2e:77:fd:\n",
    "                    2d:dc:0b:b6:6b:13:0c:8c:19:2b:17:96:98:b9:f0:\n",
    "                    8b:f6:a0:27:bb:b6:e3:8d:51:8f:bd:ae:c7:9b:b1:\n",
    "                    89:9d\"\"\""
   ]
  },
  {
   "cell_type": "code",
   "execution_count": 8,
   "metadata": {},
   "outputs": [],
   "source": [
    "modulus_bytes = bytes.fromhex(modulus_hex.replace(':', ''))"
   ]
  },
  {
   "cell_type": "code",
   "execution_count": 9,
   "metadata": {},
   "outputs": [],
   "source": [
    "modulus = int.from_bytes(modulus_bytes, 'little')"
   ]
  },
  {
   "cell_type": "code",
   "execution_count": 10,
   "metadata": {},
   "outputs": [],
   "source": [
    "from cryptography.hazmat.primitives.asymmetric.rsa import RSAPublicNumbers"
   ]
  },
  {
   "cell_type": "code",
   "execution_count": 11,
   "metadata": {},
   "outputs": [],
   "source": [
    "e = 65537"
   ]
  },
  {
   "cell_type": "code",
   "execution_count": 12,
   "metadata": {},
   "outputs": [],
   "source": [
    "public_key = RSAPublicNumbers(e, modulus).public_key()"
   ]
  },
  {
   "cell_type": "markdown",
   "metadata": {},
   "source": [
    "Signature of intermediate CA on google.com cert."
   ]
  },
  {
   "cell_type": "code",
   "execution_count": 1,
   "metadata": {},
   "outputs": [],
   "source": [
    "signature_hex = \"\"\"76:b5:84:53:d7:97:83:0b:98:9e:c2:6a:0f:d7:68:ce:c5:9b:\n",
    "         91:43:cf:a5:6f:b6:d9:1c:ce:79:c5:fb:7a:a6:2c:c6:3f:9c:\n",
    "         f8:3f:59:0d:29:8e:a6:55:06:ec:f9:ae:27:34:ac:f5:ba:ae:\n",
    "         3f:b6:06:25:e4:4e:a7:62:e0:c6:b3:9f:b8:96:fa:74:a3:3e:\n",
    "         17:04:3d:1e:70:f5:e8:3f:b3:c3:e2:b4:1c:89:0e:ab:27:72:\n",
    "         1f:2c:fd:64:34:fc:ce:74:2c:d3:64:97:49:36:e7:b2:c6:bf:\n",
    "         b7:47:57:02:92:d2:d5:ee:1b:b8:e7:3b:b9:55:ec:11:ca:04:\n",
    "         a9:fc:d5:0f:df:80:20:9d:db:b1:39:48:57:36:fa:35:50:49:\n",
    "         71:48:f7:c2:f0:36:c7:c9:c0:a3:41:16:b7:42:0e:87:96:52:\n",
    "         f8:51:76:b3:9b:b0:19:3c:c2:dd:d0:7f:be:34:fd:b3:2e:d7:\n",
    "         d1:1a:7e:41:93:6b:f1:98:f0:9f:92:95:b7:80:79:01:56:af:\n",
    "         9f:ff:ad:29:3e:49:c0:8a:a5:b5:8b:e3:ef:fa:75:4b:23:e9:\n",
    "         63:ef:b3:4f:c6:17:4a:7c:b3:93:b6:f3:46:a0:70:99:5d:65:\n",
    "         99:f5:f5:15:76:50:a0:d6:b4:53:97:57:3c:bd:b6:22:5a:f1:\n",
    "         6f:87:d5:fa\"\"\""
   ]
  },
  {
   "cell_type": "code",
   "execution_count": 4,
   "metadata": {},
   "outputs": [],
   "source": [
    "signature = bytes.fromhex(signature_hex.replace(':', ''))"
   ]
  },
  {
   "cell_type": "markdown",
   "metadata": {},
   "source": [
    "Need to figure out what stage of processed message (certificate) is actually signed.\n",
    "\n",
    "See https://security.stackexchange.com/a/139178."
   ]
  },
  {
   "cell_type": "code",
   "execution_count": 28,
   "metadata": {},
   "outputs": [],
   "source": [
    "message_base64 = \"\"\"MIIEiTCCA3GgAwIBAgIRAJe1AQS4zHSACSQRxVDlVq0wDQYJKoZIhvcNAQELBQAw\n",
    "RjELMAkGA1UEBhMCVVMxIjAgBgNVBAoTGUdvb2dsZSBUcnVzdCBTZXJ2aWNlcyBM\n",
    "TEMxEzARBgNVBAMTCkdUUyBDQSAxQzMwHhcNMjMxMDA5MDgxMTI2WhcNMjQwMTAx\n",
    "MDgxMTI1WjAZMRcwFQYDVQQDEw53d3cuZ29vZ2xlLmNvbTBZMBMGByqGSM49AgEG\n",
    "CCqGSM49AwEHA0IABFW7lhdHYCFrndwECat/kpAbVyofcHLsGPcC6DLOMqdQmNV5\n",
    "hEiWeEKTcd29TF9rC6Z0g4lo72To58ZeO5YWyg+jggJoMIICZDAOBgNVHQ8BAf8E\n",
    "BAMCB4AwEwYDVR0lBAwwCgYIKwYBBQUHAwEwDAYDVR0TAQH/BAIwADAdBgNVHQ4E\n",
    "FgQUAqcP0O7KeZczpW7niF8/vsiwV2YwHwYDVR0jBBgwFoAUinR/r4XN7pXNPZzQ\n",
    "4kYU83E1HScwagYIKwYBBQUHAQEEXjBcMCcGCCsGAQUFBzABhhtodHRwOi8vb2Nz\n",
    "cC5wa2kuZ29vZy9ndHMxYzMwMQYIKwYBBQUHMAKGJWh0dHA6Ly9wa2kuZ29vZy9y\n",
    "ZXBvL2NlcnRzL2d0czFjMy5kZXIwGQYDVR0RBBIwEIIOd3d3Lmdvb2dsZS5jb20w\n",
    "IQYDVR0gBBowGDAIBgZngQwBAgEwDAYKKwYBBAHWeQIFAzA8BgNVHR8ENTAzMDGg\n",
    "L6AthitodHRwOi8vY3Jscy5wa2kuZ29vZy9ndHMxYzMvbW9WRGZJU2lhMmsuY3Js\n",
    "MIIBBQYKKwYBBAHWeQIEAgSB9gSB8wDxAHcA2ra/az+1tiKfm8K7XGvocJFxbLtR\n",
    "hIU0vaQ9MEjX+6sAAAGLE7SmVgAABAMASDBGAiEA/w5JHHAqyDFgAxT+L032qeWj\n",
    "hzHxrIJxy5vdGUbI+o0CIQDkagdSK0yMLILOvQpkBq4xi+H2N3UVhQXaL3HJgLSw\n",
    "lQB2AHb/iD8KtvuVUcJhzPWHujS0pM27KdxoQgqf5mdMWjp0AAABixO0plEAAAQD\n",
    "AEcwRQIgBtL8IGSWqxiazOG4DPc1E+b1fmBWg0R881J6NwDI6lQCIQCwf5GmVYOa\n",
    "wgqmBf6YN6YAu9i6n8e29wF+xZ/177LbczANBgkqhkiG9w0BAQsFAAOCAQEAdrWE\n",
    "U9eXgwuYnsJqD9dozsWbkUPPpW+22RzOecX7eqYsxj+c+D9ZDSmOplUG7PmuJzSs\n",
    "9bquP7YGJeROp2LgxrOfuJb6dKM+FwQ9HnD16D+zw+K0HIkOqydyHyz9ZDT8znQs\n",
    "02SXSTbnssa/t0dXApLS1e4buOc7uVXsEcoEqfzVD9+AIJ3bsTlIVzb6NVBJcUj3\n",
    "wvA2x8nAo0EWt0IOh5ZS+FF2s5uwGTzC3dB/vjT9sy7X0Rp+QZNr8Zjwn5KVt4B5\n",
    "AVavn/+tKT5JwIqltYvj7/p1SyPpY++zT8YXSnyzk7bzRqBwmV1lmfX1FXZQoNa0\n",
    "U5dXPL22Ilrxb4fV+g==\"\"\""
   ]
  },
  {
   "cell_type": "code",
   "execution_count": 15,
   "metadata": {},
   "outputs": [],
   "source": [
    "from base64 import b64decode"
   ]
  },
  {
   "cell_type": "code",
   "execution_count": 27,
   "metadata": {},
   "outputs": [
    {
     "ename": "Error",
     "evalue": "Non-base64 digit found",
     "output_type": "error",
     "traceback": [
      "\u001b[0;31m---------------------------------------------------------------------------\u001b[0m",
      "\u001b[0;31mError\u001b[0m                                     Traceback (most recent call last)",
      "\u001b[1;32m/workspaces/realworld-cryptography-book-examples/verify-google-cert.ipynb Cell 14\u001b[0m line \u001b[0;36m1\n\u001b[0;32m----> <a href='vscode-notebook-cell://codespaces%2Bautomatic-halibut-7vj4gpr9qw2x95j/workspaces/realworld-cryptography-book-examples/verify-google-cert.ipynb#X22sdnNjb2RlLXJlbW90ZQ%3D%3D?line=0'>1</a>\u001b[0m message \u001b[39m=\u001b[39m b64decode(message_base64, validate\u001b[39m=\u001b[39;49m\u001b[39mTrue\u001b[39;49;00m)\n",
      "File \u001b[0;32m~/.python/current/lib/python3.10/base64.py:86\u001b[0m, in \u001b[0;36mb64decode\u001b[0;34m(s, altchars, validate)\u001b[0m\n\u001b[1;32m     84\u001b[0m     s \u001b[39m=\u001b[39m s\u001b[39m.\u001b[39mtranslate(\u001b[39mbytes\u001b[39m\u001b[39m.\u001b[39mmaketrans(altchars, \u001b[39mb\u001b[39m\u001b[39m'\u001b[39m\u001b[39m+/\u001b[39m\u001b[39m'\u001b[39m))\n\u001b[1;32m     85\u001b[0m \u001b[39mif\u001b[39;00m validate \u001b[39mand\u001b[39;00m \u001b[39mnot\u001b[39;00m re\u001b[39m.\u001b[39mfullmatch(\u001b[39mb\u001b[39m\u001b[39m'\u001b[39m\u001b[39m[A-Za-z0-9+/]*=\u001b[39m\u001b[39m{\u001b[39m\u001b[39m0,2}\u001b[39m\u001b[39m'\u001b[39m, s):\n\u001b[0;32m---> 86\u001b[0m     \u001b[39mraise\u001b[39;00m binascii\u001b[39m.\u001b[39mError(\u001b[39m'\u001b[39m\u001b[39mNon-base64 digit found\u001b[39m\u001b[39m'\u001b[39m)\n\u001b[1;32m     87\u001b[0m \u001b[39mreturn\u001b[39;00m binascii\u001b[39m.\u001b[39ma2b_base64(s)\n",
      "\u001b[0;31mError\u001b[0m: Non-base64 digit found"
     ]
    }
   ],
   "source": [
    "message = b64decode(message_base64, validate=True)"
   ]
  },
  {
   "cell_type": "code",
   "execution_count": 14,
   "metadata": {},
   "outputs": [],
   "source": [
    "from cryptography.hazmat.primitives import hashes\n",
    "from cryptography.hazmat.primitives.asymmetric import padding"
   ]
  },
  {
   "cell_type": "markdown",
   "metadata": {},
   "source": [
    "Note padding is PKCS#1 version 1.5, see https://crypto.stackexchange.com/a/76760."
   ]
  },
  {
   "cell_type": "code",
   "execution_count": 23,
   "metadata": {},
   "outputs": [
    {
     "ename": "InvalidSignature",
     "evalue": "",
     "output_type": "error",
     "traceback": [
      "\u001b[0;31m---------------------------------------------------------------------------\u001b[0m",
      "\u001b[0;31mInvalidSignature\u001b[0m                          Traceback (most recent call last)",
      "\u001b[1;32m/workspaces/realworld-cryptography-book-examples/verify-google-cert.ipynb Cell 17\u001b[0m line \u001b[0;36m1\n\u001b[0;32m----> <a href='vscode-notebook-cell://codespaces%2Bautomatic-halibut-7vj4gpr9qw2x95j/workspaces/realworld-cryptography-book-examples/verify-google-cert.ipynb#X20sdnNjb2RlLXJlbW90ZQ%3D%3D?line=0'>1</a>\u001b[0m public_key\u001b[39m.\u001b[39;49mverify(\n\u001b[1;32m      <a href='vscode-notebook-cell://codespaces%2Bautomatic-halibut-7vj4gpr9qw2x95j/workspaces/realworld-cryptography-book-examples/verify-google-cert.ipynb#X20sdnNjb2RlLXJlbW90ZQ%3D%3D?line=1'>2</a>\u001b[0m     signature,\n\u001b[1;32m      <a href='vscode-notebook-cell://codespaces%2Bautomatic-halibut-7vj4gpr9qw2x95j/workspaces/realworld-cryptography-book-examples/verify-google-cert.ipynb#X20sdnNjb2RlLXJlbW90ZQ%3D%3D?line=2'>3</a>\u001b[0m     message,\n\u001b[1;32m      <a href='vscode-notebook-cell://codespaces%2Bautomatic-halibut-7vj4gpr9qw2x95j/workspaces/realworld-cryptography-book-examples/verify-google-cert.ipynb#X20sdnNjb2RlLXJlbW90ZQ%3D%3D?line=3'>4</a>\u001b[0m     padding\u001b[39m.\u001b[39;49mPKCS1v15(),\n\u001b[1;32m      <a href='vscode-notebook-cell://codespaces%2Bautomatic-halibut-7vj4gpr9qw2x95j/workspaces/realworld-cryptography-book-examples/verify-google-cert.ipynb#X20sdnNjb2RlLXJlbW90ZQ%3D%3D?line=4'>5</a>\u001b[0m     hashes\u001b[39m.\u001b[39;49mSHA256(),\n\u001b[1;32m      <a href='vscode-notebook-cell://codespaces%2Bautomatic-halibut-7vj4gpr9qw2x95j/workspaces/realworld-cryptography-book-examples/verify-google-cert.ipynb#X20sdnNjb2RlLXJlbW90ZQ%3D%3D?line=5'>6</a>\u001b[0m )\n",
      "File \u001b[0;32m~/.local/lib/python3.10/site-packages/cryptography/hazmat/backends/openssl/rsa.py:582\u001b[0m, in \u001b[0;36m_RSAPublicKey.verify\u001b[0;34m(self, signature, data, padding, algorithm)\u001b[0m\n\u001b[1;32m    574\u001b[0m \u001b[39mdef\u001b[39;00m \u001b[39mverify\u001b[39m(\n\u001b[1;32m    575\u001b[0m     \u001b[39mself\u001b[39m,\n\u001b[1;32m    576\u001b[0m     signature: \u001b[39mbytes\u001b[39m,\n\u001b[0;32m   (...)\u001b[0m\n\u001b[1;32m    579\u001b[0m     algorithm: typing\u001b[39m.\u001b[39mUnion[asym_utils\u001b[39m.\u001b[39mPrehashed, hashes\u001b[39m.\u001b[39mHashAlgorithm],\n\u001b[1;32m    580\u001b[0m ) \u001b[39m-\u001b[39m\u001b[39m>\u001b[39m \u001b[39mNone\u001b[39;00m:\n\u001b[1;32m    581\u001b[0m     data, algorithm \u001b[39m=\u001b[39m _calculate_digest_and_algorithm(data, algorithm)\n\u001b[0;32m--> 582\u001b[0m     _rsa_sig_verify(\n\u001b[1;32m    583\u001b[0m         \u001b[39mself\u001b[39;49m\u001b[39m.\u001b[39;49m_backend, padding, algorithm, \u001b[39mself\u001b[39;49m, signature, data\n\u001b[1;32m    584\u001b[0m     )\n",
      "File \u001b[0;32m~/.local/lib/python3.10/site-packages/cryptography/hazmat/backends/openssl/rsa.py:324\u001b[0m, in \u001b[0;36m_rsa_sig_verify\u001b[0;34m(backend, padding, algorithm, public_key, signature, data)\u001b[0m\n\u001b[1;32m    322\u001b[0m \u001b[39mif\u001b[39;00m res \u001b[39m==\u001b[39m \u001b[39m0\u001b[39m:\n\u001b[1;32m    323\u001b[0m     backend\u001b[39m.\u001b[39m_consume_errors()\n\u001b[0;32m--> 324\u001b[0m     \u001b[39mraise\u001b[39;00m InvalidSignature\n",
      "\u001b[0;31mInvalidSignature\u001b[0m: "
     ]
    }
   ],
   "source": [
    "public_key.verify(\n",
    "    signature,\n",
    "    message,\n",
    "    padding.PKCS1v15(),\n",
    "    hashes.SHA256(),\n",
    ")"
   ]
  },
  {
   "cell_type": "code",
   "execution_count": 24,
   "metadata": {},
   "outputs": [
    {
     "name": "stdout",
     "output_type": "stream",
     "text": [
      "\u001b[0;31mSignature:\u001b[0m \u001b[0mb64decode\u001b[0m\u001b[0;34m(\u001b[0m\u001b[0ms\u001b[0m\u001b[0;34m,\u001b[0m \u001b[0maltchars\u001b[0m\u001b[0;34m=\u001b[0m\u001b[0;32mNone\u001b[0m\u001b[0;34m,\u001b[0m \u001b[0mvalidate\u001b[0m\u001b[0;34m=\u001b[0m\u001b[0;32mFalse\u001b[0m\u001b[0;34m)\u001b[0m\u001b[0;34m\u001b[0m\u001b[0;34m\u001b[0m\u001b[0m\n",
      "\u001b[0;31mDocstring:\u001b[0m\n",
      "Decode the Base64 encoded bytes-like object or ASCII string s.\n",
      "\n",
      "Optional altchars must be a bytes-like object or ASCII string of length 2\n",
      "which specifies the alternative alphabet used instead of the '+' and '/'\n",
      "characters.\n",
      "\n",
      "The result is returned as a bytes object.  A binascii.Error is raised if\n",
      "s is incorrectly padded.\n",
      "\n",
      "If validate is False (the default), characters that are neither in the\n",
      "normal base-64 alphabet nor the alternative alphabet are discarded prior\n",
      "to the padding check.  If validate is True, these non-alphabet characters\n",
      "in the input result in a binascii.Error.\n",
      "\u001b[0;31mFile:\u001b[0m      ~/.python/current/lib/python3.10/base64.py\n",
      "\u001b[0;31mType:\u001b[0m      function"
     ]
    }
   ],
   "source": [
    "?b64decode"
   ]
  },
  {
   "cell_type": "code",
   "execution_count": null,
   "metadata": {},
   "outputs": [],
   "source": []
  }
 ],
 "metadata": {
  "kernelspec": {
   "display_name": "Python 3",
   "language": "python",
   "name": "python3"
  },
  "language_info": {
   "codemirror_mode": {
    "name": "ipython",
    "version": 3
   },
   "file_extension": ".py",
   "mimetype": "text/x-python",
   "name": "python",
   "nbconvert_exporter": "python",
   "pygments_lexer": "ipython3",
   "version": "3.10.8"
  }
 },
 "nbformat": 4,
 "nbformat_minor": 2
}
